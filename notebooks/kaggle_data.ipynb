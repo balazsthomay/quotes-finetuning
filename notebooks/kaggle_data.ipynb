{
 "cells": [
  {
   "cell_type": "markdown",
   "id": "65dd1aa8",
   "metadata": {},
   "source": [
    "### Load quotes dataset from kaggle"
   ]
  },
  {
   "cell_type": "code",
   "execution_count": null,
   "id": "ee25f76c",
   "metadata": {},
   "outputs": [],
   "source": "import kagglehub\nimport shutil\nimport os\n\n# Download latest version to cache\npath = kagglehub.dataset_download(\"manann/quotes-500k\")\n\n# Create data directory if it doesn't exist\ndata_dir = \"../data\"\nos.makedirs(data_dir, exist_ok=True)\n\n# Move all files from cache to data directory\nfor file in os.listdir(path):\n   src = os.path.join(path, file)\n   dst = os.path.join(data_dir, file)\n   if os.path.isfile(src):\n       shutil.move(src, dst)  # move instead of copy\n       print(f\"Moved {file} to {data_dir}\")\n\n# Remove the empty cache directory\ntry:\n   os.rmdir(path)\n   print(f\"Removed cache directory: {path}\")\nexcept OSError:\n   print(f\"Could not remove cache directory (may not be empty): {path}\")\n\nprint(f\"All files moved to: {data_dir}\")"
  },
  {
   "cell_type": "code",
   "execution_count": null,
   "id": "ba2698aa",
   "metadata": {},
   "outputs": [],
   "source": "# Check CSV structure first\nimport pandas as pd\n\ndf_sample = pd.read_csv('../data/quotes.csv', nrows=10)\nprint(\"CSV Columns:\", df_sample.columns.tolist())\nprint(\"\\nSample rows:\")\nprint(df_sample.head())"
  },
  {
   "cell_type": "markdown",
   "id": "72026df0",
   "metadata": {},
   "source": [
    "### Filter for inspirational quotes"
   ]
  },
  {
   "cell_type": "code",
   "execution_count": null,
   "id": "de09abd3",
   "metadata": {},
   "outputs": [],
   "source": "def filter_inspirational_quotes(csv_path, output_path=None):\n    \"\"\"Filter quotes that have 'inspirational' category\"\"\"\n    \n    df = pd.read_csv(csv_path)\n    \n    # Filter for quotes that have 'inspirational' in their category\n    inspirational_df = df[df['category'].str.contains('inspirational', case=False, na=False)]\n    \n    # Length filter (10-150 characters for aphorisms)\n    inspirational_df = inspirational_df[inspirational_df['quote'].str.len().between(10, 150)]\n    \n    # Remove duplicates based on quote text\n    inspirational_df = inspirational_df.drop_duplicates(subset=['quote'])\n    \n    # Clean up - remove any rows with missing quotes or authors\n    inspirational_df = inspirational_df.dropna(subset=['quote', 'author'])\n    \n    print(f\"Found {len(inspirational_df)} inspirational quotes\")\n    print(f\"Length range: {inspirational_df['quote'].str.len().min()}-{inspirational_df['quote'].str.len().max()} characters\")\n    \n    if output_path:\n        inspirational_df.to_csv(output_path, index=False)\n    \n    return inspirational_df\n\n# Filter the quotes\ninspirational_quotes = filter_inspirational_quotes('../data/quotes.csv', '../data/inspirational_quotes_kaggle.csv')\n\n# Show a few samples\nprint(\"\\nSample inspirational quotes:\")\nfor i, row in inspirational_quotes.head(5).iterrows():\n    print(f\"'{row['quote']}' - {row['author']}\")"
  },
  {
   "cell_type": "code",
   "execution_count": null,
   "id": "25323e76",
   "metadata": {},
   "outputs": [],
   "source": []
  }
 ],
 "metadata": {
  "kernelspec": {
   "display_name": "quote-finetuning",
   "language": "python",
   "name": "python3"
  },
  "language_info": {
   "codemirror_mode": {
    "name": "ipython",
    "version": 3
   },
   "file_extension": ".py",
   "mimetype": "text/x-python",
   "name": "python",
   "nbconvert_exporter": "python",
   "pygments_lexer": "ipython3",
   "version": "3.11.13"
  }
 },
 "nbformat": 4,
 "nbformat_minor": 5
}